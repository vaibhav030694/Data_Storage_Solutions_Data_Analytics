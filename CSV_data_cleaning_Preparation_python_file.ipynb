{
  "nbformat": 4,
  "nbformat_minor": 0,
  "metadata": {
    "colab": {
      "provenance": []
    },
    "kernelspec": {
      "name": "python3",
      "display_name": "Python 3"
    },
    "language_info": {
      "name": "python"
    }
  },
  "cells": [
    {
      "cell_type": "code",
      "execution_count": null,
      "metadata": {
        "id": "NNU3giqpBDlc"
      },
      "outputs": [],
      "source": [
        "import pandas as pd\n",
        "import numpy as np"
      ]
    },
    {
      "cell_type": "code",
      "source": [
        "read_file_name = \"/content/matches.csv\"\n",
        "write_file_name = \"/content/ipl_data_cleaned.csv\"\n",
        "df = pd.read_csv(read_file_name,low_memory=False)"
      ],
      "metadata": {
        "id": "8aPnDFRPB8zK"
      },
      "execution_count": null,
      "outputs": []
    },
    {
      "cell_type": "code",
      "source": [
        "print(df.columns)"
      ],
      "metadata": {
        "colab": {
          "base_uri": "https://localhost:8080/"
        },
        "id": "_0f1xowYCJbX",
        "outputId": "971513aa-3022-4264-c2ac-96cf78ceaeba"
      },
      "execution_count": null,
      "outputs": [
        {
          "output_type": "stream",
          "name": "stdout",
          "text": [
            "Index(['id', 'season', 'city', 'date', 'team1', 'team2', 'toss_winner',\n",
            "       'toss_decision', 'result', 'dl_applied', 'winner', 'win_by_runs',\n",
            "       'win_by_wickets', 'player_of_match', 'venue', 'umpire1', 'umpire2',\n",
            "       'umpire3'],\n",
            "      dtype='object')\n"
          ]
        }
      ]
    },
    {
      "cell_type": "code",
      "source": [
        "df[\"city\"] = df[\"city\"].fillna('Dubai')\n",
        "df[\"city\"]"
      ],
      "metadata": {
        "colab": {
          "base_uri": "https://localhost:8080/"
        },
        "id": "tFDTY_PaazI6",
        "outputId": "234eff40-cfb4-4423-a0cd-8d42021845bf"
      },
      "execution_count": null,
      "outputs": [
        {
          "output_type": "execute_result",
          "data": {
            "text/plain": [
              "0          Hyderabad\n",
              "1               Pune\n",
              "2             Rajkot\n",
              "3             Indore\n",
              "4          Bangalore\n",
              "           ...      \n",
              "751           Mumbai\n",
              "752          Chennai\n",
              "753    Visakhapatnam\n",
              "754    Visakhapatnam\n",
              "755        Hyderabad\n",
              "Name: city, Length: 756, dtype: object"
            ]
          },
          "metadata": {},
          "execution_count": 13
        }
      ]
    },
    {
      "cell_type": "code",
      "source": [
        "columns_arr = [\"team1\",\"team2\",\"toss_winner\",\"winner\"]\n",
        "\n",
        "for column in columns_arr :\n",
        "  col_dataload_arr = []\n",
        "  #if column == \"venue\" :\n",
        "  for rowdata in df[column] :\n",
        "\n",
        "    if rowdata == \"Rising Pune Supergiant\"  :\n",
        "      format_row_data = \"Rising Pune Supergiants\"\n",
        "      col_dataload_arr.append(format_row_data)\n",
        "    else :\n",
        "      col_dataload_arr.append(rowdata)\n",
        "  df[column] = col_dataload_arr\n",
        "  \n",
        "# print(df[\"venue\"])\n",
        "\n",
        "# for data in df[\"venue\"] :\n",
        "#   print(data)\n"
      ],
      "metadata": {
        "id": "6EKf2SAldpj1"
      },
      "execution_count": null,
      "outputs": []
    },
    {
      "cell_type": "code",
      "source": [
        "df[df.columns] = df[df.columns].fillna('Unknown')\n",
        "print(df.head())"
      ],
      "metadata": {
        "id": "2a2S8F7XGgLb",
        "colab": {
          "base_uri": "https://localhost:8080/"
        },
        "outputId": "cd6178f0-94d7-4ea0-9b77-c54a358a8112"
      },
      "execution_count": null,
      "outputs": [
        {
          "output_type": "stream",
          "name": "stdout",
          "text": [
            "   id  season       city        date                        team1  \\\n",
            "0   1    2017  Hyderabad  2017-04-05          Sunrisers Hyderabad   \n",
            "1   2    2017       Pune  2017-04-06               Mumbai Indians   \n",
            "2   3    2017     Rajkot  2017-04-07                Gujarat Lions   \n",
            "3   4    2017     Indore  2017-04-08      Rising Pune Supergiants   \n",
            "4   5    2017  Bangalore  2017-04-08  Royal Challengers Bangalore   \n",
            "\n",
            "                         team2                  toss_winner toss_decision  \\\n",
            "0  Royal Challengers Bangalore  Royal Challengers Bangalore         field   \n",
            "1      Rising Pune Supergiants      Rising Pune Supergiants         field   \n",
            "2        Kolkata Knight Riders        Kolkata Knight Riders         field   \n",
            "3              Kings XI Punjab              Kings XI Punjab         field   \n",
            "4             Delhi Daredevils  Royal Challengers Bangalore           bat   \n",
            "\n",
            "   result  dl_applied                       winner  win_by_runs  \\\n",
            "0  normal           0          Sunrisers Hyderabad           35   \n",
            "1  normal           0      Rising Pune Supergiants            0   \n",
            "2  normal           0        Kolkata Knight Riders            0   \n",
            "3  normal           0              Kings XI Punjab            0   \n",
            "4  normal           0  Royal Challengers Bangalore           15   \n",
            "\n",
            "   win_by_wickets player_of_match                                      venue  \\\n",
            "0               0    Yuvraj Singh  Rajiv Gandhi International Stadium, Uppal   \n",
            "1               7       SPD Smith    Maharashtra Cricket Association Stadium   \n",
            "2              10         CA Lynn     Saurashtra Cricket Association Stadium   \n",
            "3               6      GJ Maxwell                     Holkar Cricket Stadium   \n",
            "4               0       KM Jadhav                      M Chinnaswamy Stadium   \n",
            "\n",
            "          umpire1        umpire2  umpire3  \n",
            "0     AY Dandekar       NJ Llong  Unknown  \n",
            "1  A Nand Kishore         S Ravi  Unknown  \n",
            "2     Nitin Menon      CK Nandan  Unknown  \n",
            "3    AK Chaudhary  C Shamshuddin  Unknown  \n",
            "4         Unknown        Unknown  Unknown  \n"
          ]
        }
      ]
    },
    {
      "cell_type": "code",
      "source": [
        "for column in df.columns :\n",
        "  venue_dataload_arr = []\n",
        "  if column == \"venue\" :\n",
        "    for rowdata in df[column] :\n",
        "\n",
        "      if rowdata.__contains__(\",\")  :\n",
        "        format_row_data = rowdata.replace(\",\", \"\")\n",
        "        venue_dataload_arr.append(format_row_data)\n",
        "      else :\n",
        "        venue_dataload_arr.append(rowdata)\n",
        "    df[column] = venue_dataload_arr\n",
        "  \n",
        "# print(df[\"venue\"])\n",
        "\n",
        "# for data in df[\"venue\"] :\n",
        "#   print(data)\n"
      ],
      "metadata": {
        "id": "9Q0P1WnOWOnP"
      },
      "execution_count": null,
      "outputs": []
    },
    {
      "cell_type": "code",
      "source": [
        "df.to_csv(write_file_name)"
      ],
      "metadata": {
        "id": "T9R0B0-UJJ18"
      },
      "execution_count": null,
      "outputs": []
    }
  ]
}